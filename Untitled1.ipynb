{
 "cells": [
  {
   "cell_type": "code",
   "execution_count": 1,
   "metadata": {},
   "outputs": [],
   "source": [
    "import cv2\n",
    "import time"
   ]
  },
  {
   "cell_type": "code",
   "execution_count": 2,
   "metadata": {},
   "outputs": [],
   "source": [
    "vidcap=cv2.VideoCapture('video.mp4')\n",
    "ret,frame1=vidcap.read()\n",
    "#cv2.imshow('Frame 1',frame1)\n",
    "while vidcap.isOpened():\n",
    "    ret,frame2=vidcap.read()\n",
    "    if not ret:\n",
    "        break\n",
    "    fgmask=cv2.absdiff(frame1,frame2)\n",
    "    _,thresh=cv2.threshold(fgmask,100,255,cv2.THRESH_BINARY)\n",
    "    cv2.imshow('Background subtracted abs diff',fgmask)\n",
    "    frame1=frame2\n",
    "    \n",
    "    if cv2.waitKey(1) & 0xFF==ord('q'):\n",
    "        break\n",
    "cv2.destroyAllWindows()\n",
    "vidcap.release()"
   ]
  },
  {
   "cell_type": "code",
   "execution_count": 42,
   "metadata": {},
   "outputs": [],
   "source": [
    "vidcap=cv2.VideoCapture('video.mp4')\n",
    "width = vidcap.get(cv2.CAP_PROP_FRAME_WIDTH )\n",
    "height = vidcap.get(cv2.CAP_PROP_FRAME_HEIGHT )\n",
    "fps =vidcap.get(cv2.CAP_PROP_FPS)"
   ]
  },
  {
   "cell_type": "code",
   "execution_count": 4,
   "metadata": {},
   "outputs": [
    {
     "data": {
      "text/plain": [
       "640.0"
      ]
     },
     "execution_count": 4,
     "metadata": {},
     "output_type": "execute_result"
    }
   ],
   "source": [
    "width"
   ]
  },
  {
   "cell_type": "code",
   "execution_count": 43,
   "metadata": {},
   "outputs": [
    {
     "data": {
      "text/plain": [
       "360.0"
      ]
     },
     "execution_count": 43,
     "metadata": {},
     "output_type": "execute_result"
    }
   ],
   "source": [
    "height"
   ]
  },
  {
   "cell_type": "code",
   "execution_count": 44,
   "metadata": {},
   "outputs": [
    {
     "data": {
      "text/plain": [
       "25.0"
      ]
     },
     "execution_count": 44,
     "metadata": {},
     "output_type": "execute_result"
    }
   ],
   "source": [
    "fps"
   ]
  },
  {
   "cell_type": "code",
   "execution_count": 14,
   "metadata": {},
   "outputs": [],
   "source": [
    "def centroid(x,y,w,h):\n",
    "    xmid=int(x+w/2)\n",
    "    ymid=int(y+h/2)\n",
    "    return xmid,ymid"
   ]
  },
  {
   "cell_type": "code",
   "execution_count": 15,
   "metadata": {},
   "outputs": [
    {
     "data": {
      "text/plain": [
       "(2, 2)"
      ]
     },
     "execution_count": 15,
     "metadata": {},
     "output_type": "execute_result"
    }
   ],
   "source": [
    "centroid(1,1,2,2)"
   ]
  },
  {
   "cell_type": "code",
   "execution_count": 24,
   "metadata": {},
   "outputs": [],
   "source": [
    "vidcap=cv2.VideoCapture('video.mp4')\n",
    "BS=cv2.createBackgroundSubtractorKNN()\n",
    "vehicle=0\n",
    "while vidcap.isOpened():\n",
    "    ret,frame=vidcap.read()\n",
    "    if not ret:\n",
    "        break\n",
    "    fgmask=BS.apply(frame)\n",
    "    cv2.line(frame,(100,100),(550,100),(0,255,0),2)\n",
    "    cv2.line(frame,(100,130),(550,130),(0,0,255),2)\n",
    "    cv2.line(frame,(100,160),(550,160),(0,165,0),2)\n",
    "    #cv2.imshow('Background subtracted KNN',fgmask)\n",
    "    conts,_=cv2.findContours(fgmask,cv2.RETR_LIST,cv2.CHAIN_APPROX_SIMPLE)\n",
    "    for c in conts:\n",
    "        if cv2.contourArea(c)<400:\n",
    "            continue\n",
    "        x,y,w,h=cv2.boundingRect(c)\n",
    "        cv2.rectangle(frame,(x,y),(x+w,y+h),(255,0,0),2)\n",
    "        xmid,ymid=centroid(x,y,w,h)\n",
    "        cv2.circle(frame,(xmid,ymid),5,(0,0,255),5)\n",
    "        if ymid>100 and ymid<160:\n",
    "            vehicle+=1\n",
    "    cv2.putText(frame,\"Vehicles: {}\".format(vehicle),(250,60),cv2.FONT_HERSHEY_SIMPLEX,2,(255,0,0),2)\n",
    "    cv2.imshow(\"Frame\",frame)\n",
    "    \n",
    "    if cv2.waitKey(1) & 0xFF==ord('q'):\n",
    "        vehicle=0\n",
    "        break\n",
    "cv2.destroyAllWindows()\n",
    "vidcap.release()\n",
    "        \n",
    "    \n",
    "\n"
   ]
  },
  {
   "cell_type": "code",
   "execution_count": 49,
   "metadata": {},
   "outputs": [
    {
     "ename": "NameError",
     "evalue": "name 'time1' is not defined",
     "output_type": "error",
     "traceback": [
      "\u001b[1;31m---------------------------------------------------------------------------\u001b[0m",
      "\u001b[1;31mNameError\u001b[0m                                 Traceback (most recent call last)",
      "\u001b[1;32m<ipython-input-49-8a7e73391c35>\u001b[0m in \u001b[0;36m<module>\u001b[1;34m\u001b[0m\n\u001b[0;32m     20\u001b[0m         \u001b[1;32mif\u001b[0m \u001b[0mymid\u001b[0m\u001b[1;33m==\u001b[0m\u001b[1;36m160\u001b[0m\u001b[1;33m:\u001b[0m\u001b[1;33m\u001b[0m\u001b[1;33m\u001b[0m\u001b[0m\n\u001b[0;32m     21\u001b[0m             \u001b[0mtime2\u001b[0m\u001b[1;33m=\u001b[0m\u001b[0mtime\u001b[0m\u001b[1;33m.\u001b[0m\u001b[0mtime\u001b[0m\u001b[1;33m(\u001b[0m\u001b[1;33m)\u001b[0m\u001b[1;33m\u001b[0m\u001b[1;33m\u001b[0m\u001b[0m\n\u001b[1;32m---> 22\u001b[1;33m             \u001b[0mtimefinal\u001b[0m\u001b[1;33m=\u001b[0m\u001b[0mtime2\u001b[0m\u001b[1;33m-\u001b[0m\u001b[0mtime1\u001b[0m\u001b[1;33m\u001b[0m\u001b[1;33m\u001b[0m\u001b[0m\n\u001b[0m\u001b[0;32m     23\u001b[0m             \u001b[0mspeed\u001b[0m\u001b[1;33m=\u001b[0m\u001b[1;33m(\u001b[0m\u001b[1;36m60\u001b[0m\u001b[1;33m/\u001b[0m\u001b[0mtimefinal\u001b[0m\u001b[1;33m)\u001b[0m\u001b[1;33m*\u001b[0m\u001b[1;36m3.6\u001b[0m\u001b[1;33m\u001b[0m\u001b[1;33m\u001b[0m\u001b[0m\n\u001b[0;32m     24\u001b[0m             \u001b[0mcv2\u001b[0m\u001b[1;33m.\u001b[0m\u001b[0mputText\u001b[0m\u001b[1;33m(\u001b[0m\u001b[0mcars\u001b[0m\u001b[1;33m,\u001b[0m\u001b[1;34m\"speed: {}kmph\"\u001b[0m\u001b[1;33m.\u001b[0m\u001b[0mformat\u001b[0m\u001b[1;33m(\u001b[0m\u001b[0mspeed\u001b[0m\u001b[1;33m)\u001b[0m\u001b[1;33m,\u001b[0m\u001b[1;33m(\u001b[0m\u001b[0mx\u001b[0m\u001b[1;33m,\u001b[0m\u001b[0my\u001b[0m\u001b[1;33m)\u001b[0m\u001b[1;33m,\u001b[0m\u001b[0mcv2\u001b[0m\u001b[1;33m.\u001b[0m\u001b[0mFONT_HERSHEY_PLAIN\u001b[0m\u001b[1;33m,\u001b[0m\u001b[1;36m0.5\u001b[0m\u001b[1;33m,\u001b[0m\u001b[1;33m(\u001b[0m\u001b[1;36m0.255\u001b[0m\u001b[1;33m,\u001b[0m\u001b[1;36m0\u001b[0m\u001b[1;33m)\u001b[0m\u001b[1;33m,\u001b[0m\u001b[1;36m2\u001b[0m\u001b[1;33m)\u001b[0m\u001b[1;33m\u001b[0m\u001b[1;33m\u001b[0m\u001b[0m\n",
      "\u001b[1;31mNameError\u001b[0m: name 'time1' is not defined"
     ]
    }
   ],
   "source": [
    "\n",
    "vidcap=cv2.VideoCapture('video.mp4')\n",
    "car_cascade = cv2.CascadeClassifier('car\\cars.xml')\n",
    "while vidcap.isOpened():\n",
    "    ret, img = vidcap.read()\n",
    "    if not ret:\n",
    "        break\n",
    "    cv2.line(img,(150,100),(550,100),(0,255,0),2)\n",
    "    cv2.line(img,(150,130),(550,130),(0,0,255),2)\n",
    "    cv2.line(img,(150,160),(550,160),(0,165,0),2)    \n",
    "    gray = cv2.cvtColor(img,cv2.COLOR_BGR2GRAY)\n",
    "    cars=car_cascade.detectMultiScale(gray,1.8,2)\n",
    "    for (x,y,w,h) in cars:\n",
    "        cv2.rectangle(img,(x,y),(x+w,y+h),(255,0,0),2)\n",
    "        xmid,ymid=centroid(x,y,w,h)\n",
    "        cv2.circle(img,(xmid,ymid),5,(0,0,255),5)\n",
    "        if ymid>100 and ymid<160:\n",
    "            vehicle+=1\n",
    "        if ymid==100:\n",
    "            time1=time.time()\n",
    "        if ymid==160:\n",
    "            time2=time.time()\n",
    "            timefinal=time2-time1\n",
    "            speed=(60/timefinal)*3.6\n",
    "            cv2.putText(cars,\"speed: {}kmph\".format(speed),(x,y),cv2.FONT_HERSHEY_PLAIN,0.5,(0.255,0),2)\n",
    "    cv2.putText(img,\"Vehicles: {}\".format(vehicle),(250,60),cv2.FONT_HERSHEY_SIMPLEX,2,(255,0,0),2)\n",
    "    #cv2.imshow(\"Frame\",frame)\n",
    "        \n",
    "    cv2.imshow('Frame',img)\n",
    "    if cv2.waitKey(1) & 0xFF==ord('q'):\n",
    "        vehicle=0\n",
    "        break\n",
    "vehicle=0\n",
    "cv2.destroyAllWindows()\n",
    "vidcap.release()        "
   ]
  },
  {
   "cell_type": "code",
   "execution_count": 1,
   "metadata": {},
   "outputs": [],
   "source": [
    "import numpy as np\n",
    "import cv2\n",
    "import time\n",
    "\n",
    "car_cascade = cv2.CascadeClassifier('car\\cars.xml')\n",
    "cap = cv2.VideoCapture('video.mp4')\n",
    "\n",
    "wide=0.1   #depends upon size of car(~2.5)\n",
    "flag=True\n",
    "\n",
    "start=end=0\n",
    "time_diff=0\n",
    "while(cap.isOpened()):\n",
    "    ret, img = cap.read()\n",
    "    height,width,chan=img.shape\n",
    "    #print(height,width,chan)\n",
    "    \n",
    "    gray = cv2.cvtColor(img, cv2.COLOR_BGR2GRAY)\n",
    "    cars = car_cascade.detectMultiScale(gray, 1.3, 5)\n",
    "    #crp=gray[0:480,0:int(width/2)+10]\n",
    "    \n",
    "    for(x,y,w,h) in cars:\n",
    "        cv2.rectangle(img, (x,y), (x+w,y+h), (0,255,0),2)\n",
    "        center_x=(2*x+w)/2\n",
    "        center_y=(2*y+h)/2\n",
    "        #print(center_x,center_y)\n",
    "        dist1=((wide*668.748634441)/w)\n",
    "        #print(\"Distance from car:\",round(dist1,2),\"m\")\n",
    "        roi_gray = gray[y:y+h,x:x+w]\n",
    "        roi_color = img[y:y+h,x:x+w]\n",
    "        dist0=((wide*668.748634441)/w)\n",
    "        actual_dist=dist0*(width/2)/668.748634441\n",
    "        #print(\"Actual Distance:\",actual_dist)\n",
    "        if flag is True and int(round(center_x)) in (range(0,80) or range(400,480)):\n",
    "            \n",
    "            start=time.time()\n",
    "            flag=False\n",
    "            \n",
    "            #print(\"Start:\",start)  \n",
    "        \n",
    "        if flag is False and int(round(center_x)) in range(int(round(width/2))-10,int(round(width/2))+10):\n",
    "            end=time.time()\n",
    "            time_diff=end-start\n",
    "            #print(\"End:\",end)\n",
    "            flag=True\n",
    "            s_flag=True\n",
    "\n",
    "        \n",
    "    \n",
    "        \n",
    "       \n",
    "    #print(\"Time Difference:\",time_diff)\n",
    "    if time_diff>0 and s_flag==True:\n",
    "        velocity=actual_dist/time_diff\n",
    "        #print(round(start),round(end))\n",
    "        vel_kmph=round(velocity*3.6,2)\n",
    "        print(\"Speed:\",vel_kmph,\"kmph\")\n",
    "        print(\"Distance from car:\",round(dist1,2),\"m\")\n",
    "        s_flag=False\n",
    "\n",
    "    \n",
    "    \n",
    "    cv2.line(img,(int(width/2),0),(int(width/2),height),(255,0,0),2)        \n",
    "    cv2.imshow('frame',img)\n",
    "    \n",
    "    if cv2.waitKey(1) & 0xFF == ord('q'):\n",
    "        break\n",
    "\n",
    "cap.release()\n",
    "cv2.destroyAllWindows()"
   ]
  },
  {
   "cell_type": "code",
   "execution_count": null,
   "metadata": {},
   "outputs": [],
   "source": []
  }
 ],
 "metadata": {
  "kernelspec": {
   "display_name": "Python 3",
   "language": "python",
   "name": "python3"
  },
  "language_info": {
   "codemirror_mode": {
    "name": "ipython",
    "version": 3
   },
   "file_extension": ".py",
   "mimetype": "text/x-python",
   "name": "python",
   "nbconvert_exporter": "python",
   "pygments_lexer": "ipython3",
   "version": "3.7.3"
  }
 },
 "nbformat": 4,
 "nbformat_minor": 2
}
